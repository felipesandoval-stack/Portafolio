{
 "cells": [
  {
   "cell_type": "code",
   "execution_count": null,
   "id": "35691e64-f749-458c-8a53-93d8db8ab85b",
   "metadata": {},
   "outputs": [],
   "source": [
    "import pandas as pd\n",
    "import numpy as np\n",
    "import os\n",
    "import matplotlib.pyplot as plt\n",
    "from sklearn.preprocessing import OneHotEncoder"
   ]
  },
  {
   "cell_type": "code",
   "execution_count": null,
   "id": "0859a85c-35d7-4518-8151-5e58c946529f",
   "metadata": {},
   "outputs": [],
   "source": [
    "xls = pd.ExcelFile('Base.xlsx')\n",
    "df2 = pd.read_excel(xls, 'Total')\n",
    "df2['MailingCity'] = df2['MailingCity'].str.upper()\n",
    "df2.head()"
   ]
  },
  {
   "cell_type": "code",
   "execution_count": null,
   "id": "9ce09eb5-d921-40a3-8754-52d6b8e44090",
   "metadata": {},
   "outputs": [],
   "source": [
    "df1 = pd.merge(df2, categ, how='left', left_on=['MailingCity'], right_on = ['Municipio'])\n",
    "df1.head(100)"
   ]
  },
  {
   "cell_type": "code",
   "execution_count": null,
   "id": "9bdea17f-985a-499d-ae00-f2503f4d9292",
   "metadata": {},
   "outputs": [],
   "source": [
    "#reemplazos\n",
    "df1['canalventa'].replace('-','', inplace=True)\n",
    "df1['Estrato'] = df1['Estrato'].fillna(0) \n",
    "df1['Gender'].replace('No Aplica',np.NaN, inplace=True)\n",
    "df1['Gender'].replace('U',np.NaN, inplace=True)\n",
    "df1['Column3'] = df1.loc[((df1['Column1 ']==\"prueba\")&(df1['Column2']==\"prueba\")), 'Columna resultado'] = 1 #revisar que todo no este dando 1\n"
   ]
  },
  {
   "cell_type": "code",
   "execution_count": null,
   "id": "fa34145e-ec42-4e3b-950e-1510a85f4aa2",
   "metadata": {},
   "outputs": [],
   "source": [
    "df1.head()"
   ]
  },
  {
   "cell_type": "code",
   "execution_count": null,
   "id": "262e1084-6794-45ee-98a1-c66d650df7a7",
   "metadata": {},
   "outputs": [],
   "source": [
    "train_X_3 = df3\n",
    "encoder=OneHotEncoder(sparse_output=False)\n",
    "train_X_encoded = pd.DataFrame (encoder.fit_transform(train_X_3[['Estrato']]))\n",
    "train_X_encoded.columns = encoder.get_feature_names_out(['Estrato'])\n",
    "train_X_3.drop(['Estrato'] ,axis=1, inplace=True)\n",
    "OH_X_train= pd.concat([df3, train_X_encoded ], axis=1)\n",
    "OH_X_train.head()\n",
    "#train_X.head() "
   ]
  },
  {
   "cell_type": "code",
   "execution_count": null,
   "id": "cf1efde3-0478-4dc2-b102-ac710e035ce2",
   "metadata": {},
   "outputs": [],
   "source": [
    "variable = 'Gender'\n",
    "train_X_3 = df3\n",
    "encoder=OneHotEncoder(sparse_output=False)\n",
    "train_X_encoded = pd.DataFrame (encoder.fit_transform(train_X_3[[variable]]))\n",
    "train_X_encoded.columns = encoder.get_feature_names_out([variable])\n",
    "train_X_3.drop([variable] ,axis=1, inplace=True)\n",
    "OH_X_train= pd.concat([OH_X_train, train_X_encoded ], axis=1)\n",
    "OH_X_train.head()\n",
    "#train_X.head() "
   ]
  },
  {
   "cell_type": "code",
   "execution_count": null,
   "id": "3af8bd88-207a-45fb-8bca-8da50408596f",
   "metadata": {},
   "outputs": [],
   "source": [
    "OH_X_train.to_excel('Encoder_2024.xlsx', index=False)"
   ]
  },
  {
   "cell_type": "code",
   "execution_count": null,
   "id": "03573bb6-b133-482b-83b8-abcfd7f84476",
   "metadata": {},
   "outputs": [],
   "source": []
  }
 ],
 "metadata": {
  "kernelspec": {
   "display_name": "Python 3 (ipykernel)",
   "language": "python",
   "name": "python3"
  },
  "language_info": {
   "codemirror_mode": {
    "name": "ipython",
    "version": 3
   },
   "file_extension": ".py",
   "mimetype": "text/x-python",
   "name": "python",
   "nbconvert_exporter": "python",
   "pygments_lexer": "ipython3",
   "version": "3.11.7"
  }
 },
 "nbformat": 4,
 "nbformat_minor": 5
}
