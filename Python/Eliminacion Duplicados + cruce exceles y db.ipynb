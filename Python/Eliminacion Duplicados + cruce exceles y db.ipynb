{
 "cells": [
  {
   "cell_type": "code",
   "execution_count": null,
   "id": "35691e64-f749-458c-8a53-93d8db8ab85b",
   "metadata": {},
   "outputs": [],
   "source": [
    "import pandas as pd\n",
    "import numpy as np\n",
    "import os\n"
   ]
  },
  {
   "cell_type": "code",
   "execution_count": null,
   "id": "2fc82260-0212-4580-b789-d77234c52a68",
   "metadata": {},
   "outputs": [],
   "source": [
    "#lectura blacklist correo\n",
    "xls = pd.ExcelFile('BLACKLIST.xlsx')\n",
    "blkcorreo = pd.read_excel(xls, 'listanegarcorreo')\n",
    "xls = pd.ExcelFile('BLACKLIST.xlsx')\n",
    "blkcelular = pd.read_excel(xls, 'listanegratel')\n",
    "blkcelular.head(1)"
   ]
  },
  {
   "cell_type": "code",
   "execution_count": null,
   "id": "2f8ddbb5-2708-4a14-b09d-0519001117d4",
   "metadata": {},
   "outputs": [],
   "source": [
    "#lectura Salesforce\n",
    "xls = pd.ExcelFile('Base.xlsx')\n",
    "df = pd.read_excel(xls, 'sheet1')\n",
    "df = df.loc[df['Tipo_User'] == 1] #filtro tipo_user = 1\n",
    "df = df.loc[df['DocumentID'] == 0] #filtro tipo_user = 1\n",
    "df = df.sort_values(by='Created Date', ascending=True)\n",
    "##df.head(1)"
   ]
  },
  {
   "cell_type": "code",
   "execution_count": null,
   "id": "52bcda29-b74f-4ca6-9cae-875f26aa5b97",
   "metadata": {},
   "outputs": [],
   "source": [
    "#quitar correos default porque genera producto cruz grande\n",
    "\n",
    "df_2 = df_2[~df_2['Correo_Electronico'].str.contains(\"r.rfactura@gmail.com\", na=False)]\n",
    "\n",
    "df_2 = df_2.loc[~df_2['Correo_Electronico'].isna()] #todos los registros menos los que vienen nan\n",
    "df_2 = df_2.loc[~df_2['Telefono'].isna()]\n",
    "df_2 = df_2.loc[df_2['Identificacion'] != 0]\n",
    "df_2 = df_2.loc[df_2['Telefono'] != 0]\n",
    "df_2 = df_2[['Identificacion','Correo_Electronico','Telefono','Fecha_Modificacion','Spice_id']]\n",
    "df_2 = df_2.drop_duplicates()\n"
   ]
  },
  {
   "cell_type": "code",
   "execution_count": null,
   "id": "785de96f-a9de-4abf-8e9f-857fafae080e",
   "metadata": {},
   "outputs": [],
   "source": [
    "\n",
    "cruce = pd.merge(df,df_2, how='left', left_on=['Consumer DB ID'], right_on = ['Spice_id'])\n",
    "cruce.info()"
   ]
  },
  {
   "cell_type": "code",
   "execution_count": null,
   "id": "37abe600-1cac-4eea-a4e5-4817ab5d3ed0",
   "metadata": {},
   "outputs": [],
   "source": [
    "cruce['len_celular'] = cruce['Mobile'].astype(str).map(len) #cantidad caracteres\n",
    "cruce['len_Email'] = cruce['Email'].astype(str).map(len) #cantidad caracteres\n",
    "cruce['start_celular_3'] =  cruce['Mobile'].astype(str).str[0]\n",
    "cruce.head(1)"
   ]
  },
  {
   "cell_type": "code",
   "execution_count": null,
   "id": "efeaa9d3-cae1-4654-afb1-710b5390b1e2",
   "metadata": {},
   "outputs": [],
   "source": [
    "cruce['DocumentID_Cruce'] = cruce.DocumentID.where(cruce.DocumentID != 0, cruce.Identificacion)\n",
    "cruce.head(1)"
   ]
  },
  {
   "cell_type": "code",
   "execution_count": null,
   "id": "a4a94775-1265-418b-b68b-b3b9214a4338",
   "metadata": {},
   "outputs": [],
   "source": [
    "cruce.to_excel('cruce.xlsx', index=False)"
   ]
  },
  {
   "cell_type": "code",
   "execution_count": null,
   "id": "d7846946-ffbc-4577-ae37-38ba07ca6dbe",
   "metadata": {},
   "outputs": [],
   "source": [
    "duplicate_fix = duplicate_fix.sort_values('Created Date').groupby(['Consumer DB ID']).first() #agrupado y ordenado por 1"
   ]
  }
 ],
 "metadata": {
  "kernelspec": {
   "display_name": "Python 3 (ipykernel)",
   "language": "python",
   "name": "python3"
  },
  "language_info": {
   "codemirror_mode": {
    "name": "ipython",
    "version": 3
   },
   "file_extension": ".py",
   "mimetype": "text/x-python",
   "name": "python",
   "nbconvert_exporter": "python",
   "pygments_lexer": "ipython3",
   "version": "3.11.7"
  }
 },
 "nbformat": 4,
 "nbformat_minor": 5
}
