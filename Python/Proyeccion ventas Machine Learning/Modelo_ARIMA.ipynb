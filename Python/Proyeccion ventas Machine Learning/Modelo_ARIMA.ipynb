{
 "cells": [
  {
   "cell_type": "code",
   "execution_count": 1,
   "id": "2e7f422b",
   "metadata": {},
   "outputs": [],
   "source": [
    "import pandas as pd\n",
    "import numpy as np\n",
    "import matplotlib.pyplot as plt\n",
    "from sklearn.model_selection import train_test_split\n",
    "from sklearn.linear_model import LinearRegression\n",
    "from sklearn.metrics import mean_squared_error\n",
    "from statsmodels.tsa.arima.model import ARIMA\n"
   ]
  },
  {
   "cell_type": "code",
   "execution_count": 2,
   "id": "f0a3938f",
   "metadata": {},
   "outputs": [
    {
     "data": {
      "text/html": [
       "<div>\n",
       "<style scoped>\n",
       "    .dataframe tbody tr th:only-of-type {\n",
       "        vertical-align: middle;\n",
       "    }\n",
       "\n",
       "    .dataframe tbody tr th {\n",
       "        vertical-align: top;\n",
       "    }\n",
       "\n",
       "    .dataframe thead th {\n",
       "        text-align: right;\n",
       "    }\n",
       "</style>\n",
       "<table border=\"1\" class=\"dataframe\">\n",
       "  <thead>\n",
       "    <tr style=\"text-align: right;\">\n",
       "      <th></th>\n",
       "      <th>fecha</th>\n",
       "      <th>prod_id</th>\n",
       "      <th>precio_promedio</th>\n",
       "      <th>ventas</th>\n",
       "      <th>modelo_actual</th>\n",
       "    </tr>\n",
       "  </thead>\n",
       "  <tbody>\n",
       "    <tr>\n",
       "      <th>0</th>\n",
       "      <td>2017-01-01</td>\n",
       "      <td>0</td>\n",
       "      <td>6651.737920</td>\n",
       "      <td>1786.0</td>\n",
       "      <td>1943.551087</td>\n",
       "    </tr>\n",
       "    <tr>\n",
       "      <th>1</th>\n",
       "      <td>2017-02-01</td>\n",
       "      <td>0</td>\n",
       "      <td>4919.698602</td>\n",
       "      <td>2194.0</td>\n",
       "      <td>1853.111850</td>\n",
       "    </tr>\n",
       "    <tr>\n",
       "      <th>2</th>\n",
       "      <td>2017-03-01</td>\n",
       "      <td>0</td>\n",
       "      <td>3277.484704</td>\n",
       "      <td>1178.0</td>\n",
       "      <td>1659.733052</td>\n",
       "    </tr>\n",
       "    <tr>\n",
       "      <th>3</th>\n",
       "      <td>2017-04-01</td>\n",
       "      <td>0</td>\n",
       "      <td>5906.864332</td>\n",
       "      <td>1010.0</td>\n",
       "      <td>1580.492875</td>\n",
       "    </tr>\n",
       "    <tr>\n",
       "      <th>4</th>\n",
       "      <td>2017-05-01</td>\n",
       "      <td>0</td>\n",
       "      <td>4662.644018</td>\n",
       "      <td>1327.0</td>\n",
       "      <td>1552.062093</td>\n",
       "    </tr>\n",
       "    <tr>\n",
       "      <th>5</th>\n",
       "      <td>2017-06-01</td>\n",
       "      <td>0</td>\n",
       "      <td>6342.042090</td>\n",
       "      <td>982.0</td>\n",
       "      <td>1108.069873</td>\n",
       "    </tr>\n",
       "    <tr>\n",
       "      <th>6</th>\n",
       "      <td>2017-07-01</td>\n",
       "      <td>0</td>\n",
       "      <td>4025.450305</td>\n",
       "      <td>1041.0</td>\n",
       "      <td>1027.946609</td>\n",
       "    </tr>\n",
       "    <tr>\n",
       "      <th>7</th>\n",
       "      <td>2017-08-01</td>\n",
       "      <td>0</td>\n",
       "      <td>5271.820417</td>\n",
       "      <td>874.0</td>\n",
       "      <td>1143.970335</td>\n",
       "    </tr>\n",
       "    <tr>\n",
       "      <th>8</th>\n",
       "      <td>2017-09-01</td>\n",
       "      <td>0</td>\n",
       "      <td>4657.933860</td>\n",
       "      <td>1042.0</td>\n",
       "      <td>1038.140169</td>\n",
       "    </tr>\n",
       "    <tr>\n",
       "      <th>9</th>\n",
       "      <td>2017-10-01</td>\n",
       "      <td>0</td>\n",
       "      <td>6146.444333</td>\n",
       "      <td>618.0</td>\n",
       "      <td>854.462461</td>\n",
       "    </tr>\n",
       "  </tbody>\n",
       "</table>\n",
       "</div>"
      ],
      "text/plain": [
       "        fecha  prod_id  precio_promedio  ventas  modelo_actual\n",
       "0  2017-01-01        0      6651.737920  1786.0    1943.551087\n",
       "1  2017-02-01        0      4919.698602  2194.0    1853.111850\n",
       "2  2017-03-01        0      3277.484704  1178.0    1659.733052\n",
       "3  2017-04-01        0      5906.864332  1010.0    1580.492875\n",
       "4  2017-05-01        0      4662.644018  1327.0    1552.062093\n",
       "5  2017-06-01        0      6342.042090   982.0    1108.069873\n",
       "6  2017-07-01        0      4025.450305  1041.0    1027.946609\n",
       "7  2017-08-01        0      5271.820417   874.0    1143.970335\n",
       "8  2017-09-01        0      4657.933860  1042.0    1038.140169\n",
       "9  2017-10-01        0      6146.444333   618.0     854.462461"
      ]
     },
     "execution_count": 2,
     "metadata": {},
     "output_type": "execute_result"
    }
   ],
   "source": [
    "# Cargar datos históricos de ventas (reemplaza 'tu_archivo.csv' con tu archivo CSV)\n",
    "datos_ventas = pd.read_csv('desafio_modelo_de_demanda.csv')\n",
    "datos_ventas.head(10)"
   ]
  },
  {
   "cell_type": "code",
   "execution_count": 3,
   "id": "ee04cde8",
   "metadata": {},
   "outputs": [
    {
     "data": {
      "text/html": [
       "<div>\n",
       "<style scoped>\n",
       "    .dataframe tbody tr th:only-of-type {\n",
       "        vertical-align: middle;\n",
       "    }\n",
       "\n",
       "    .dataframe tbody tr th {\n",
       "        vertical-align: top;\n",
       "    }\n",
       "\n",
       "    .dataframe thead th {\n",
       "        text-align: right;\n",
       "    }\n",
       "</style>\n",
       "<table border=\"1\" class=\"dataframe\">\n",
       "  <thead>\n",
       "    <tr style=\"text-align: right;\">\n",
       "      <th></th>\n",
       "      <th>fecha</th>\n",
       "      <th>prod_id</th>\n",
       "      <th>precio_promedio</th>\n",
       "      <th>ventas</th>\n",
       "      <th>modelo_actual</th>\n",
       "    </tr>\n",
       "  </thead>\n",
       "  <tbody>\n",
       "    <tr>\n",
       "      <th>0</th>\n",
       "      <td>2017-01-01</td>\n",
       "      <td>0</td>\n",
       "      <td>6651.737920</td>\n",
       "      <td>1786.0</td>\n",
       "      <td>1943.551087</td>\n",
       "    </tr>\n",
       "    <tr>\n",
       "      <th>1</th>\n",
       "      <td>2017-02-01</td>\n",
       "      <td>0</td>\n",
       "      <td>4919.698602</td>\n",
       "      <td>2194.0</td>\n",
       "      <td>1853.111850</td>\n",
       "    </tr>\n",
       "    <tr>\n",
       "      <th>2</th>\n",
       "      <td>2017-03-01</td>\n",
       "      <td>0</td>\n",
       "      <td>3277.484704</td>\n",
       "      <td>1178.0</td>\n",
       "      <td>1659.733052</td>\n",
       "    </tr>\n",
       "    <tr>\n",
       "      <th>3</th>\n",
       "      <td>2017-04-01</td>\n",
       "      <td>0</td>\n",
       "      <td>5906.864332</td>\n",
       "      <td>1010.0</td>\n",
       "      <td>1580.492875</td>\n",
       "    </tr>\n",
       "    <tr>\n",
       "      <th>4</th>\n",
       "      <td>2017-05-01</td>\n",
       "      <td>0</td>\n",
       "      <td>4662.644018</td>\n",
       "      <td>1327.0</td>\n",
       "      <td>1552.062093</td>\n",
       "    </tr>\n",
       "  </tbody>\n",
       "</table>\n",
       "</div>"
      ],
      "text/plain": [
       "       fecha  prod_id  precio_promedio  ventas  modelo_actual\n",
       "0 2017-01-01        0      6651.737920  1786.0    1943.551087\n",
       "1 2017-02-01        0      4919.698602  2194.0    1853.111850\n",
       "2 2017-03-01        0      3277.484704  1178.0    1659.733052\n",
       "3 2017-04-01        0      5906.864332  1010.0    1580.492875\n",
       "4 2017-05-01        0      4662.644018  1327.0    1552.062093"
      ]
     },
     "execution_count": 3,
     "metadata": {},
     "output_type": "execute_result"
    }
   ],
   "source": [
    "datos_ventas['fecha'] = pd.to_datetime(datos_ventas['fecha'])\n",
    "datos_ventas.loc[datos_ventas['prod_id'] == '0']\n",
    "\n",
    "datos_ventas.head()"
   ]
  },
  {
   "cell_type": "code",
   "execution_count": 4,
   "id": "5a547049",
   "metadata": {},
   "outputs": [],
   "source": [
    "X = pd.to_numeric((datos_ventas['fecha'] - datos_ventas['fecha'].min()) / np.timedelta64(1, 'D')).values.reshape(-1, 1)\n",
    "y = datos_ventas['ventas'].values.reshape(-1, 1)\n"
   ]
  },
  {
   "cell_type": "code",
   "execution_count": 12,
   "id": "321244f2",
   "metadata": {},
   "outputs": [
    {
     "name": "stdout",
     "output_type": "stream",
     "text": [
      "[909.26509329]\n",
      "[[0.07083693]]\n"
     ]
    }
   ],
   "source": [
    "SEED = 42\n",
    "X_train, X_test, y_train, y_test = train_test_split(X, y, test_size = 0.2, random_state = SEED)\n",
    "regressor = LinearRegression()\n",
    "regressor.fit(X_train, y_train)\n",
    "print(regressor.intercept_)\n",
    "print(regressor.coef_)"
   ]
  },
  {
   "cell_type": "code",
   "execution_count": 30,
   "id": "12316b09",
   "metadata": {},
   "outputs": [],
   "source": [
    "fechas_nuevo_anio = pd.date_range(start='2024-01-01', end='2024-12-31', freq='M')\n",
    "X_nuevo_anio = pd.to_numeric((fechas_nuevo_anio - datos_ventas['fecha'].min()) / np.timedelta64(1, 'D')).values.reshape(-1, 1)\n"
   ]
  },
  {
   "cell_type": "code",
   "execution_count": 31,
   "id": "3f577302",
   "metadata": {},
   "outputs": [
    {
     "name": "stdout",
     "output_type": "stream",
     "text": [
      "       Actual    Predicted\n",
      "0      1033.0  1202.388316\n",
      "1       304.0   969.547322\n",
      "2      1272.0  1105.412557\n",
      "3       541.0  1122.696768\n",
      "4       374.0  1060.218595\n",
      "...       ...          ...\n",
      "16145  2490.0  1206.709369\n",
      "16146   368.0  1202.388316\n",
      "16147   420.0   939.370789\n",
      "16148   595.0   999.723855\n",
      "16149   315.0  1185.245779\n",
      "\n",
      "[16150 rows x 2 columns]\n"
     ]
    }
   ],
   "source": [
    "y_pred = regressor.predict(X_test)\n",
    "df_preds = pd.DataFrame({'Actual': y_test.squeeze(), 'Predicted': y_pred.squeeze()})\n",
    "print(df_preds)"
   ]
  },
  {
   "cell_type": "code",
   "execution_count": null,
   "id": "6dfc2d9a",
   "metadata": {},
   "outputs": [],
   "source": [
    "#proyecciones_df.head()\n",
    "#proyecciones_df.to_excel('proyecciones.xlsx', index=False)"
   ]
  }
 ],
 "metadata": {
  "kernelspec": {
   "display_name": "Python 3 (ipykernel)",
   "language": "python",
   "name": "python3"
  },
  "language_info": {
   "codemirror_mode": {
    "name": "ipython",
    "version": 3
   },
   "file_extension": ".py",
   "mimetype": "text/x-python",
   "name": "python",
   "nbconvert_exporter": "python",
   "pygments_lexer": "ipython3",
   "version": "3.11.5"
  }
 },
 "nbformat": 4,
 "nbformat_minor": 5
}
