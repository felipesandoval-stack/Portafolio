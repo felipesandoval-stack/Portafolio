{
  "nbformat": 4,
  "nbformat_minor": 0,
  "metadata": {
    "colab": {
      "name": "Untitled0.ipynb",
      "provenance": [],
      "authorship_tag": "ABX9TyN+hPpsWMkO0m9ZxWnB1CY3",
      "include_colab_link": true
    },
    "kernelspec": {
      "name": "python3",
      "display_name": "Python 3"
    },
    "language_info": {
      "name": "python"
    }
  },
  "cells": [
    {
      "cell_type": "markdown",
      "metadata": {
        "id": "view-in-github",
        "colab_type": "text"
      },
      "source": [
        "<a href=\"https://colab.research.google.com/github/felipesandoval-stack/scrapping_google/blob/main/scrapping_search_google.ipynb\" target=\"_parent\"><img src=\"https://colab.research.google.com/assets/colab-badge.svg\" alt=\"Open In Colab\"/></a>"
      ]
    },
    {
      "cell_type": "code",
      "metadata": {
        "colab": {
          "base_uri": "https://localhost:8080/",
          "height": 442
        },
        "id": "MQhHHUpqe1et",
        "outputId": "c0294bc1-7d92-4403-9129-99ddac316fd6"
      },
      "source": [
        "import pandas \n",
        "from googlesearch import search\n",
        "\n",
        "keys=['universidades'] #palabra a buscar\n",
        "cantidad_resultados = 100 #cantidad resultados\n",
        "#df = pandas.read_csv('test_1.csv')\n",
        "df = pandas.DataFrame({'keys':keys})\n",
        "keys_name = []\n",
        "result = []\n",
        "for i in range(len(df['keys'])):\n",
        "    for j in search(df['keys'][i], tld=\"com\", num=10, stop=cantidad_resultados, pause=2):\n",
        "        result.append(j)\n",
        "        keys_name.append(df['keys'][i])\n",
        "\n",
        "#dict1 = {'keys': df['keys'], 'url': result}\n",
        "dict1 = {'keys':keys_name, 'url': result}\n",
        "df = pandas.DataFrame(dict1)\n",
        "print (df)\n",
        "df.head ()\n",
        "#df.to_csv('test.csv')"
      ],
      "execution_count": 12,
      "outputs": [
        {
          "output_type": "stream",
          "text": [
            "             keys                                                url\n",
            "0   universidades          https://es.wikipedia.org/wiki/Universidad\n",
            "1   universidades  https://www.topuniversities.com/university-ran...\n",
            "2   universidades  https://www.topuniversities.com/university-ran...\n",
            "3   universidades                          https://universidades.cr/\n",
            "4   universidades                           https://www.harvard.edu/\n",
            "..            ...                                                ...\n",
            "95  universidades                           https://www.uasb.edu.ec/\n",
            "96  universidades  https://www.abc.es/sociedad/abci-mejores-unive...\n",
            "97  universidades                              https://illinois.edu/\n",
            "98  universidades                            https://www.uns.edu.ar/\n",
            "99  universidades                          https://www.virginia.edu/\n",
            "\n",
            "[100 rows x 2 columns]\n"
          ],
          "name": "stdout"
        },
        {
          "output_type": "execute_result",
          "data": {
            "text/html": [
              "<div>\n",
              "<style scoped>\n",
              "    .dataframe tbody tr th:only-of-type {\n",
              "        vertical-align: middle;\n",
              "    }\n",
              "\n",
              "    .dataframe tbody tr th {\n",
              "        vertical-align: top;\n",
              "    }\n",
              "\n",
              "    .dataframe thead th {\n",
              "        text-align: right;\n",
              "    }\n",
              "</style>\n",
              "<table border=\"1\" class=\"dataframe\">\n",
              "  <thead>\n",
              "    <tr style=\"text-align: right;\">\n",
              "      <th></th>\n",
              "      <th>keys</th>\n",
              "      <th>url</th>\n",
              "    </tr>\n",
              "  </thead>\n",
              "  <tbody>\n",
              "    <tr>\n",
              "      <th>0</th>\n",
              "      <td>universidades</td>\n",
              "      <td>https://es.wikipedia.org/wiki/Universidad</td>\n",
              "    </tr>\n",
              "    <tr>\n",
              "      <th>1</th>\n",
              "      <td>universidades</td>\n",
              "      <td>https://www.topuniversities.com/university-ran...</td>\n",
              "    </tr>\n",
              "    <tr>\n",
              "      <th>2</th>\n",
              "      <td>universidades</td>\n",
              "      <td>https://www.topuniversities.com/university-ran...</td>\n",
              "    </tr>\n",
              "    <tr>\n",
              "      <th>3</th>\n",
              "      <td>universidades</td>\n",
              "      <td>https://universidades.cr/</td>\n",
              "    </tr>\n",
              "    <tr>\n",
              "      <th>4</th>\n",
              "      <td>universidades</td>\n",
              "      <td>https://www.harvard.edu/</td>\n",
              "    </tr>\n",
              "  </tbody>\n",
              "</table>\n",
              "</div>"
            ],
            "text/plain": [
              "            keys                                                url\n",
              "0  universidades          https://es.wikipedia.org/wiki/Universidad\n",
              "1  universidades  https://www.topuniversities.com/university-ran...\n",
              "2  universidades  https://www.topuniversities.com/university-ran...\n",
              "3  universidades                          https://universidades.cr/\n",
              "4  universidades                           https://www.harvard.edu/"
            ]
          },
          "metadata": {
            "tags": []
          },
          "execution_count": 12
        }
      ]
    }
  ]
}